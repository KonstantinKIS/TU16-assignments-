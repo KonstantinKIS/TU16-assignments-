{
 "cells": [
  {
   "cell_type": "markdown",
   "metadata": {},
   "source": [
    "# Final Python Assignment\n",
    "\n",
    "\n",
    "Use the following table to provide us with\n",
    "\n",
    "|name | exam number|\n",
    "|----|----|\n",
    "|Konstantin-Kiril Stanchin| 2003849 / u139256|\n",
    "|other group member's name| exam number|"
   ]
  },
  {
   "cell_type": "markdown",
   "metadata": {},
   "source": [
    "# Read this carefully"
   ]
  },
  {
   "cell_type": "markdown",
   "metadata": {},
   "source": [
    "This is the final assignment for python. You also need to make the R part of this final assignment.\n",
    "With this python part of the final assignment, you can earn 4 points.\n",
    "This assignment needs to be uploaded July 7th 2017 (23:59 at the latest).\n",
    "After you have finished this exam, do the following:\n",
    "\n",
    "-   upload your python and R files to github\n",
    "-   create two links in your README file:\n",
    "    -   one link to \"final python assignment\"\n",
    "    -   one link to \"final R assignment\"\n",
    "-   fill in the google form (see link on Blackboard) that you have uploaded your files\n",
    "-   use the same student number you gave us before, otherwise we cannot retrieve your pass/fail grades (if we cannot find these, we assume you failed all of them)"
   ]
  },
  {
   "cell_type": "markdown",
   "metadata": {},
   "source": [
    "# Doing math with python"
   ]
  },
  {
   "cell_type": "markdown",
   "metadata": {},
   "source": [
    "As in the tutorial of [week 4](http://janboone.github.io/programming-for-economists/python.html#week4), we will use python to work with functions. Although in the lectures and assignments we worked with plotly to make graphs, here we will use [matplotlib]([https://matplotlib.org/](https://matplotlib.org/)). Hence, you need to google to see how plots are made using this library. An important aspect of using open source software is that you can figure out yourself how to use things."
   ]
  },
  {
   "cell_type": "markdown",
   "metadata": {},
   "source": [
    "# Import libraries"
   ]
  },
  {
   "cell_type": "markdown",
   "metadata": {},
   "source": [
    "First, we need to import some libraries:"
   ]
  },
  {
   "cell_type": "code",
   "execution_count": 13,
   "metadata": {
    "collapsed": true
   },
   "outputs": [],
   "source": [
    "from scipy import optimize\n",
    "from numpy import arange\n",
    "import matplotlib.pyplot as plt\n",
    "%matplotlib inline"
   ]
  },
  {
   "cell_type": "code",
   "execution_count": 9,
   "metadata": {
    "collapsed": true
   },
   "outputs": [],
   "source": [
    "from scipy.optimize import fsolve\n",
    "import numpy as np"
   ]
  },
  {
   "cell_type": "markdown",
   "metadata": {},
   "source": [
    "We are going to analyze the function $x^2 - 8x +15$. Check the lectures and assignments to see how you define a function in python.\n",
    "\n",
    "-   **1. [0.5 point]:** Define the python function $objective$ as $x^2 - 8x +15$."
   ]
  },
  {
   "cell_type": "code",
   "execution_count": 5,
   "metadata": {
    "collapsed": true
   },
   "outputs": [],
   "source": [
    "def objective(x):\n",
    "    return x**2 -8*x +15\n"
   ]
  },
  {
   "cell_type": "code",
   "execution_count": 4,
   "metadata": {},
   "outputs": [
    {
     "name": "stdout",
     "output_type": "stream",
     "text": [
      "3\n"
     ]
    }
   ],
   "source": [
    "def f(x):\n",
    "    y = x**2 -8*x +15\n",
    "    return y\n",
    "print(f(2))"
   ]
  },
  {
   "cell_type": "markdown",
   "metadata": {},
   "source": [
    "We want to know what the zeros/roots are of this function; that is, the points $x$ where the function equals 0 (or, crosses the $x$-axis).\n",
    "\n",
    "-   **2. [1 point]:** Use $fsolve$ from $optimize$ to find **both** roots of this functions."
   ]
  },
  {
   "cell_type": "code",
   "execution_count": 14,
   "metadata": {},
   "outputs": [
    {
     "name": "stdout",
     "output_type": "stream",
     "text": [
      "[ 3.]\n",
      "[ 5.]\n"
     ]
    }
   ],
   "source": [
    "root1 = optimize.fsolve(lambda x:objective(x),0)\n",
    "root2 = optimize.fsolve(lambda x:objective(x),10)\n",
    "print(root1)\n",
    "print(root2)"
   ]
  },
  {
   "cell_type": "markdown",
   "metadata": {},
   "source": [
    "-   **3. [0.5 point]:** Find the points of intersection between the function $objective$ above and the function $f(x)=1.5 x$."
   ]
  },
  {
   "cell_type": "code",
   "execution_count": 15,
   "metadata": {},
   "outputs": [
    {
     "name": "stdout",
     "output_type": "stream",
     "text": [
      "[ 2.]\n",
      "[ 7.5]\n"
     ]
    }
   ],
   "source": [
    "def f(x):\n",
    "    return 1.5*x\n",
    "def g(x):\n",
    "    return objective(x) - f(x)\n",
    "root3 = optimize.fsolve(lambda x:g(x),0)\n",
    "root4 = optimize.fsolve(lambda x:g(x),10)\n",
    "print(root3)\n",
    "print(root4)"
   ]
  },
  {
   "cell_type": "markdown",
   "metadata": {},
   "source": [
    "We want to plot the function and hence need to define a range over which to plot. Define the range in such a way that the graph below looks \"nice\".\n",
    "\n",
    "-   **4. [0.5 point]:** Generate a list (or \"vector\", if you wish) of $x$ values between 0 and 8 (including 8.0). Call this `range_x`."
   ]
  },
  {
   "cell_type": "code",
   "execution_count": 11,
   "metadata": {},
   "outputs": [
    {
     "name": "stdout",
     "output_type": "stream",
     "text": [
      "[0 1 2 3 4 5 6 7 8]\n"
     ]
    }
   ],
   "source": [
    "range_x = np.arange(0,9,1)\n",
    "print(range_x)"
   ]
  },
  {
   "cell_type": "markdown",
   "metadata": {},
   "source": [
    "# Using $matplotlib$"
   ]
  },
  {
   "cell_type": "markdown",
   "metadata": {},
   "source": [
    "-   **5. [0.5 point]:** Above we import $matplotlib.pyplot$. Explain what the $plt$-part of this import statement does."
   ]
  },
  {
   "cell_type": "code",
   "execution_count": 21,
   "metadata": {},
   "outputs": [
    {
     "name": "stdout",
     "output_type": "stream",
     "text": [
      "It enables us to activate matplotlib.pyplot by using the statement plt.\n"
     ]
    }
   ],
   "source": [
    "print(\"It enables us to activate matplotlib.pyplot by using the statement plt.\")"
   ]
  },
  {
   "cell_type": "markdown",
   "metadata": {},
   "source": [
    "-   **6. [1 point]:** Use $matplotlib$ to plot both the function $objective$ and the function $1.5 x$. Make sure that the horizontal axis is labeled $x$ and the vertical axis $y$."
   ]
  },
  {
   "cell_type": "code",
   "execution_count": 17,
   "metadata": {},
   "outputs": [
    {
     "data": {
      "image/png": "[encoded data removed]",
      "text/plain": [
       "<matplotlib.figure.Figure at 0x140f627de48>"
      ]
     },
     "metadata": {},
     "output_type": "display_data"
    }
   ],
   "source": [
    "plt.plot(range_x, objective(range_x), \"r\")\n",
    "plt.plot(range_x, f(range_x), \"b\")\n",
    "plt.xlabel('x')\n",
    "plt.ylabel('y')\n",
    "plt.show()"
   ]
  },
  {
   "cell_type": "code",
   "execution_count": null,
   "metadata": {
    "collapsed": true
   },
   "outputs": [],
   "source": []
  }
 ],
 "metadata": {
  "kernelspec": {
   "display_name": "Python 3",
   "language": "python",
   "name": "python3"
  },
  "language_info": {
   "codemirror_mode": {
    "name": "ipython",
    "version": 3
   },
   "file_extension": ".py",
   "mimetype": "text/x-python",
   "name": "python",
   "nbconvert_exporter": "python",
   "pygments_lexer": "ipython3",
   "version": "3.6.1"
  },
  "org": null
 },
 "nbformat": 4,
 "nbformat_minor": 1
}
