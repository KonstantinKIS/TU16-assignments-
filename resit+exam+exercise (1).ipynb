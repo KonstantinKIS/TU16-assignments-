{
 "cells": [
  {
   "cell_type": "markdown",
   "metadata": {},
   "source": [
    "# Exam\n",
    "\n",
    "Use the following table to provide us with\n",
    "\n",
    "|name | exam number|\n",
    "|----|----|\n",
    "|Konstantin-Kiril Stanchin| 2003849/ u139256|\n",
    "|other group member's name| exam number|\n",
    "\n",
    "## Introduction and loading the data\n",
    "\n",
    "In this resit we will work with data about budget shares of British households. A description of the data can be found on:\n",
    "[link](https://vincentarelbundock.github.io/Rdatasets/doc/Ecdat/BudgetUK.html)\n",
    "\n",
    "You will need to load the following packages:\n",
    "dplyr\n",
    "ggplot2"
   ]
  },
  {
   "cell_type": "code",
   "execution_count": null,
   "metadata": {},
   "outputs": [],
   "source": [
    "library(ggplot2)\n",
    "library(dplyr)"
   ]
  },
  {
   "cell_type": "markdown",
   "metadata": {},
   "source": [
    "First, read in the dataset BudgetUK.csv and call the dataset \"budget\".\n"
   ]
  },
  {
   "cell_type": "code",
   "execution_count": null,
   "metadata": {
    "collapsed": true
   },
   "outputs": [],
   "source": [
    "budget <- read.csv2(\"BudgetUK.csv\")\n",
    "budget"
   ]
  },
  {
   "cell_type": "markdown",
   "metadata": {},
   "source": [
    "And then look at the structure of the dataframe"
   ]
  },
  {
   "cell_type": "code",
   "execution_count": null,
   "metadata": {},
   "outputs": [],
   "source": [
    "str(budget)"
   ]
  },
  {
   "cell_type": "markdown",
   "metadata": {},
   "source": [
    "Please convert all variables to numeric ones, except ID and children\n",
    "Please note that if you convert \"factors\" into numerical variables, things go wrong. That is because R converts the \"level\" of the factor to an integer. So, if we want to convert factors to numerics we will use:\n",
    "as.numeric(as.character). See this example:\n"
   ]
  },
  {
   "cell_type": "code",
   "execution_count": 6,
   "metadata": {
    "collapsed": true
   },
   "outputs": [],
   "source": [
    "budget$wfood <- as.numeric(as.character(budget$wfood))"
   ]
  },
  {
   "cell_type": "code",
   "execution_count": null,
   "metadata": {
    "collapsed": true
   },
   "outputs": [],
   "source": [
    "budget$wfuel <- as.numeric(as.character(budget$wfuel))\n",
    "budget$wcloth <- as.numeric(as.character(budget$wcloth))\n",
    "budget$walc <- as.numeric(as.character(budget$walc))\n",
    "budget$wtrans <- as.numeric(as.character(budget$wtrans))\n",
    "budget$wother <- as.numeric(as.character(budget$wother))\n",
    "budget$totexp <- as.numeric(budget$totexp)\n",
    "budget$income <- as.numeric(budget$income)\n",
    "budget$age <- as.numeric(budget$age)\n",
    "str(budget)"
   ]
  },
  {
   "cell_type": "markdown",
   "metadata": {},
   "source": [
    "Please change the variables and you should convert the variable \"children\" in a factor"
   ]
  },
  {
   "cell_type": "code",
   "execution_count": null,
   "metadata": {},
   "outputs": [],
   "source": [
    "budget$children <- as.factor(budget$children)"
   ]
  },
  {
   "cell_type": "markdown",
   "metadata": {},
   "source": [
    "Now, you will need to make a new dataframe called \"budget1\" based on the dataframe \"budget\" and then add a column with the name \"totalbudget\" which is the sum of wfood, wfuel, wcloth, walc, wtrans and wother."
   ]
  },
  {
   "cell_type": "code",
   "execution_count": null,
   "metadata": {
    "collapsed": true
   },
   "outputs": [],
   "source": [
    "budget1 <- budget %>%\n",
    "group_by(id) %>%\n",
    "mutate(totalbudget=wfood+wfuel+walc+wtrans+wother)\n",
    "budget1"
   ]
  },
  {
   "cell_type": "markdown",
   "metadata": {},
   "source": [
    "## Graphs:\n",
    "\n",
    "First make a scatterplot with wcloth on the x-axis, wfood on the y-axis and give a different color for the different numbers of children. PLease add regression lines and confidence intervals. \n",
    "For extra points:\n",
    "Change the title for the x-axis in \"share of budget for clothing\" and the y-axis in \"Share of budget for food\".\n"
   ]
  },
  {
   "cell_type": "code",
   "execution_count": null,
   "metadata": {},
   "outputs": [],
   "source": [
    "ggplot(budget, aes(x = wcloth, y = wfood, col = children)) +\n",
    "  geom_point() + geom_smooth(method=lm) + scale_x_continuous(name=\"Share of budget for clothing\") +\n",
    "  scale_y_continuous(name=\"Share of budget for food\")"
   ]
  },
  {
   "cell_type": "markdown",
   "metadata": {},
   "source": [
    "We should make a second graph. You should make a bar chart with age on the x-axis and wfood on the y-axis. Give different colors for the number of children. The graph should be \"stacked\" (bars on top of each other). You can extra points if you can change the colors to red and blue."
   ]
  },
  {
   "cell_type": "code",
   "execution_count": null,
   "metadata": {},
   "outputs": [],
   "source": [
    "newcol = c(\"red\", \"blue\")\n",
    "ggplot(budget, aes(x = age, y=wfood, fill=children)) + geom_col() + scale_fill_manual(values = newcol)"
   ]
  },
  {
   "cell_type": "markdown",
   "metadata": {},
   "source": [
    "## Extra points:\n",
    "\n",
    "You can earn extra points you are able to produce a dataframe with the observations of which the totalbudget is not nearly 1. As you might have observed, there are a few NA's is the dataset. \n",
    "First set the NA's in the dataset to 0.\n",
    "Then, You should round the numbers first with zero decimals and then convert them into integers.\n",
    "\n",
    "Finally make a dataframe \"warning\" with observations that have a totalbudget that is not equal to 1 and show the dataframe with the command warning."
   ]
  },
  {
   "cell_type": "code",
   "execution_count": 12,
   "metadata": {
    "collapsed": true
   },
   "outputs": [],
   "source": []
  },
  {
   "cell_type": "code",
   "execution_count": 13,
   "metadata": {
    "collapsed": true
   },
   "outputs": [],
   "source": []
  },
  {
   "cell_type": "code",
   "execution_count": null,
   "metadata": {},
   "outputs": [],
   "source": []
  },
  {
   "cell_type": "code",
   "execution_count": null,
   "metadata": {
    "collapsed": true
   },
   "outputs": [],
   "source": []
  }
 ],
 "metadata": {
  "anaconda-cloud": {},
  "kernelspec": {
   "display_name": "R",
   "language": "R",
   "name": "ir"
  },
  "language_info": {
   "codemirror_mode": "r",
   "file_extension": ".r",
   "mimetype": "text/x-r-source",
   "name": "R",
   "pygments_lexer": "r",
   "version": "3.3.2"
  }
 },
 "nbformat": 4,
 "nbformat_minor": 1
}
